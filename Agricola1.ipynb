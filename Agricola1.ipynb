{
  "nbformat": 4,
  "nbformat_minor": 0,
  "metadata": {
    "colab": {
      "provenance": [],
      "authorship_tag": "ABX9TyNfdBFyyHFfFa1+YH5270hC",
      "include_colab_link": true
    },
    "kernelspec": {
      "name": "python3",
      "display_name": "Python 3"
    },
    "language_info": {
      "name": "python"
    }
  },
  "cells": [
    {
      "cell_type": "markdown",
      "metadata": {
        "id": "view-in-github",
        "colab_type": "text"
      },
      "source": [
        "<a href=\"https://colab.research.google.com/github/deinersevilla07/prog_agricola_2025_2/blob/main/Agricola1.ipynb\" target=\"_parent\"><img src=\"https://colab.research.google.com/assets/colab-badge.svg\" alt=\"Open In Colab\"/></a>"
      ]
    },
    {
      "cell_type": "code",
      "execution_count": null,
      "metadata": {
        "id": "n4fYexQ29v0i"
      },
      "outputs": [],
      "source": []
    },
    {
      "cell_type": "code",
      "metadata": {
        "colab": {
          "base_uri": "https://localhost:8080/"
        },
        "id": "9ba7b0c0",
        "outputId": "3c109d22-6175-4b46-fad7-8873bc7de6d4"
      },
      "source": [
        "# Define two numbers\n",
        "num1 = 5\n",
        "num2 = 10\n",
        "\n",
        "# Sum the numbers\n",
        "sum_result = num1 + num2\n",
        "\n",
        "# Print the result\n",
        "print(f\"La suma de {num1} y {num2} es: {sum_result}\")"
      ],
      "execution_count": 2,
      "outputs": [
        {
          "output_type": "stream",
          "name": "stdout",
          "text": [
            "La suma de 5 y 10 es: 15\n"
          ]
        }
      ]
    }
  ]
}