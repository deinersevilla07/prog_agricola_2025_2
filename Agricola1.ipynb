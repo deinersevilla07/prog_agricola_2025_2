{
  "nbformat": 4,
  "nbformat_minor": 0,
  "metadata": {
    "colab": {
      "provenance": [],
      "authorship_tag": "ABX9TyOjI690heSiWtOsRU0GsGyo",
      "include_colab_link": true
    },
    "kernelspec": {
      "name": "python3",
      "display_name": "Python 3"
    },
    "language_info": {
      "name": "python"
    }
  },
  "cells": [
    {
      "cell_type": "markdown",
      "metadata": {
        "id": "view-in-github",
        "colab_type": "text"
      },
      "source": [
        "<a href=\"https://colab.research.google.com/github/deinersevilla07/prog_agricola_2025_2/blob/main/Agricola1.ipynb\" target=\"_parent\"><img src=\"https://colab.research.google.com/assets/colab-badge.svg\" alt=\"Open In Colab\"/></a>"
      ]
    },
    {
      "cell_type": "code",
      "execution_count": null,
      "metadata": {
        "id": "n4fYexQ29v0i"
      },
      "outputs": [],
      "source": []
    },
    {
      "cell_type": "code",
      "metadata": {
        "colab": {
          "base_uri": "https://localhost:8080/"
        },
        "id": "9ba7b0c0",
        "outputId": "3c109d22-6175-4b46-fad7-8873bc7de6d4"
      },
      "source": [
        "# Define two numbers\n",
        "num1 = 5\n",
        "num2 = 10\n",
        "\n",
        "# Sum the numbers\n",
        "sum_result = num1 + num2\n",
        "\n",
        "# Print the result\n",
        "print(f\"La suma de {num1} y {num2} es: {sum_result}\")"
      ],
      "execution_count": null,
      "outputs": [
        {
          "output_type": "stream",
          "name": "stdout",
          "text": [
            "La suma de 5 y 10 es: 15\n"
          ]
        }
      ]
    },
    {
      "cell_type": "code",
      "metadata": {
        "colab": {
          "base_uri": "https://localhost:8080/"
        },
        "id": "56f468b5",
        "outputId": "34928daa-e1ee-42d9-e18f-a798f46b728c"
      },
      "source": [
        "# Define two numbers\n",
        "a = 20\n",
        "b = 5\n",
        "\n",
        "# Addition\n",
        "suma = a + b\n",
        "print(f\"Suma: {a} + {b} = {suma}\")\n",
        "\n",
        "# Subtraction\n",
        "resta = a - b\n",
        "print(f\"Resta: {a} - {b} = {resta}\")\n",
        "\n",
        "# Multiplication\n",
        "multiplicacion = a * b\n",
        "print(f\"Multiplicación: {a} * {b} = {multiplicacion}\")\n",
        "\n",
        "# Division (float division)\n",
        "division_flotante = a / b\n",
        "print(f\"División (flotante): {a} / {b} = {division_flotante}\")\n",
        "\n",
        "# Integer division (floor division)\n",
        "division_entera = a // b\n",
        "print(f\"División (entera): {a} // {b} = {division_entera}\")\n",
        "\n",
        "# Modulo (remainder)\n",
        "modulo = a % b\n",
        "print(f\"Módulo: {a} % {b} = {modulo}\")\n",
        "\n",
        "# Exponentiation\n",
        "potencia = a ** b\n",
        "print(f\"Potencia: {a} ** {b} = {potencia}\")"
      ],
      "execution_count": 3,
      "outputs": [
        {
          "output_type": "stream",
          "name": "stdout",
          "text": [
            "Suma: 20 + 5 = 25\n",
            "Resta: 20 - 5 = 15\n",
            "Multiplicación: 20 * 5 = 100\n",
            "División (flotante): 20 / 5 = 4.0\n",
            "División (entera): 20 // 5 = 4\n",
            "Módulo: 20 % 5 = 0\n",
            "Potencia: 20 ** 5 = 3200000\n"
          ]
        }
      ]
    }
  ]
}